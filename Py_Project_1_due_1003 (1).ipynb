{
  "cells": [
    {
      "cell_type": "markdown",
      "metadata": {
        "id": "xq__bChjD04e"
      },
      "source": [
        "# Python Assignment 1"
      ]
    },
    {
      "cell_type": "markdown",
      "source": [
        "⏱⏱⏱**Due: 10/03/2023 11:59 PM** ⏱⏱⏱\n",
        "\n",
        "Submit this notebook file and upload it to your git repo. Include a link to your git repo while submitting this file to Brightspace.\n",
        "\n",
        "You are not allowed to use chatgpt or any LLM in this assignment.\n",
        "Cooperation is allowed and encouraged; however, you must write up and submit your own work. If you cooperate with others, you must list their names here."
      ],
      "metadata": {
        "id": "y7j2V0UDMYLG"
      }
    },
    {
      "cell_type": "markdown",
      "metadata": {
        "id": "SUS30Ew9D04n"
      },
      "source": [
        "(100 points total)"
      ]
    },
    {
      "cell_type": "markdown",
      "source": [
        "## 0. Data Types, Structures, Indexing, and Slicing"
      ],
      "metadata": {
        "id": "b_bgT3b2GYTB"
      }
    },
    {
      "cell_type": "markdown",
      "source": [
        "Read the lecutre note as well as [this page](https://www.geeksforgeeks.org/mutable-vs-immutable-objects-in-python/) and [this page](https://www.geeksforgeeks.org/difference-between-shallow-and-deep-copy-of-a-class/). Complete the following questions.\n",
        "\n",
        "(5 points) Give some examples (at least 2) of mutable objects in Python.\n",
        "\n",
        "***Answer:***\n",
        "Python list, Python dict, Python set   ( can add or remove elements)\n",
        "\n",
        "---\n",
        "\n",
        "\n",
        "\n",
        "(5 points) Give some examples (at least 2) of immutable objects in Python.\n",
        "\n",
        "***Answer:***\n",
        "in-built datatypes: int, float, bool, string, Unicode, and tuple.(can’t be changed after it is created. )\n",
        "\n",
        "---\n",
        "\n",
        "\n",
        "\n",
        "(10 points) State the differences between assignment, shallow copy, and deep copy. Any reasonable answer will get full credit.\n",
        "\n",
        "***Answer:***\n",
        "assignment: changes made to the copied object will affect the original object because they both refer to the same underlying data.\n",
        "\n",
        "shallow copy: creates a new object, but nested objects are still shared.\n",
        "\n",
        "deep copy: deep repetition truly clones the underlying data. It recursively copies all objects contained within the original object, independence between the original and the copy.\n",
        "\n",
        "---\n",
        "\n",
        "\n",
        "\n"
      ],
      "metadata": {
        "id": "6yI1Jt57IwV2"
      }
    },
    {
      "cell_type": "markdown",
      "source": [
        "(10 points) Using string methods find() and rfind(), find the index of the first digit (i.e. 0) and the index of the last digit (5) in the string below. Then, using string slicing, extract the number (i.e. 0.595595) from this string and convert the extracted value to a floating point number. Print out this float to the console."
      ],
      "metadata": {
        "id": "OA8DxcrrGqZD"
      }
    },
    {
      "cell_type": "code",
      "source": [
        "text = \"F-DGFDDSFGFD-CFDSHdstgfdfe: tfsd  aaa bdsf 0.595595 fdsgfdbc\";\n",
        "\n",
        "first = text.find('0')\n",
        "# find the index of the first digit (0) using find()\n",
        "\n",
        "last = text.rfind('5')\n",
        "# find the index of the last digit (5) using rfind()\n",
        "\n",
        "number = text[first:last + 1]\n",
        "value = float(number)\n",
        "# extract numbers and convert to float number\n",
        "\n",
        "print(value)\n",
        "#print float number\n",
        "\n",
        "\n"
      ],
      "metadata": {
        "id": "AUuFXXWqG4D3",
        "colab": {
          "base_uri": "https://localhost:8080/"
        },
        "outputId": "81ccc384-4813-49b1-8a75-36893c8f3ff0"
      },
      "execution_count": 3,
      "outputs": [
        {
          "output_type": "stream",
          "name": "stdout",
          "text": [
            "0.595595\n"
          ]
        }
      ]
    },
    {
      "cell_type": "markdown",
      "metadata": {
        "id": "cnCljYgpD04p"
      },
      "source": [
        "## 1. Conditional Statements\n",
        "\n",
        "(10 points)\n",
        "Translate the following MATLAB code into Python using `if-elif-else`.\n",
        "```\n",
        "n = input('Enter a number: ');\n",
        "\n",
        "switch n\n",
        "    case -1\n",
        "        disp('negative one')\n",
        "    case 0\n",
        "        disp('zero')\n",
        "    case 1\n",
        "        disp('positive one')\n",
        "    otherwise\n",
        "        disp('other value')\n",
        "end\n",
        "```"
      ]
    },
    {
      "cell_type": "code",
      "execution_count": 16,
      "metadata": {
        "collapsed": true,
        "id": "9d8vl5zjD04q",
        "colab": {
          "base_uri": "https://localhost:8080/"
        },
        "outputId": "339cc212-ef3b-42e0-aef3-3d9c803465c3"
      },
      "outputs": [
        {
          "output_type": "stream",
          "name": "stdout",
          "text": [
            "Enter a number:  -1\n",
            "negative one\n"
          ]
        }
      ],
      "source": [
        "n = input('Enter a number:  ')\n",
        "# prompt user enter number\n",
        "\n",
        "n = int(n)\n",
        "# convert the input string to an integer\n",
        "\n",
        "if n == -1:\n",
        "  print('negative one')\n",
        "elif n == 0:\n",
        "  print('zero')\n",
        "elif n == 1:\n",
        "  print('positive one')\n",
        "else:\n",
        "  print('other value')\n",
        "# use if-elif-else statement\n",
        "\n",
        "\n",
        ""
      ]
    },
    {
      "cell_type": "markdown",
      "metadata": {
        "id": "sW9XiUPpD04s"
      },
      "source": [
        "## 2. While Loops\n",
        "\n",
        "(10 points) Write a Python program that calculates the factorial of a given number (you can assume an positive integer) using a while loop. Display the result to the console."
      ]
    },
    {
      "cell_type": "code",
      "source": [
        "n = input('enter a positive number: ')\n",
        "n = int(n)\n",
        "# prompt user enter a positive number\n",
        "# convert the input string to an integer\n",
        "\n",
        "if n<0:\n",
        "  print('error: enter a valid number')\n",
        "# if enter pnegative number prompt user enter valid number\n",
        "\n",
        "else:\n",
        "  factorial = 1\n",
        "  i = 1\n",
        "# initialize a variable store the factorial result\n",
        "# initialize a counter i for iteration\n",
        "\n",
        "  while i <= n:\n",
        "    factorial *= i\n",
        "    i += 1\n",
        "# use while loop to calculate factorial\n",
        "# multiple result by the current iteration i\n",
        "# increase the value of counter i to continue the next iteration\n",
        "\n",
        "  print('factorial', n, 'is', factorial)\n",
        "# print result\n",
        "\n",
        "\n",
        "\n",
        "\n",
        "\n",
        "\n",
        "# test cases\n",
        "# n = 17, Output: 355687428096000\n",
        "# n = 13, Output: 6227020800"
      ],
      "metadata": {
        "colab": {
          "base_uri": "https://localhost:8080/"
        },
        "id": "Kcgd4f-7ELsw",
        "outputId": "82b1efbb-3321-4eeb-d47a-b387d3dd0ff2"
      },
      "execution_count": 52,
      "outputs": [
        {
          "output_type": "stream",
          "name": "stdout",
          "text": [
            "enter a positive number: 13\n",
            "factorial 13 is 6227020800\n"
          ]
        }
      ]
    },
    {
      "cell_type": "markdown",
      "metadata": {
        "id": "ZQ5SVMq6D04w"
      },
      "source": [
        "## 3. Functions\n",
        "\n",
        "(10 points) Write a function that determines if a number is prime."
      ]
    },
    {
      "cell_type": "code",
      "execution_count": 62,
      "metadata": {
        "id": "6rGP5G3_D04x",
        "colab": {
          "base_uri": "https://localhost:8080/"
        },
        "outputId": "adc5c489-50c5-40be-d6d6-3df6ceeb661d"
      },
      "outputs": [
        {
          "output_type": "stream",
          "name": "stdout",
          "text": [
            "enter a number: 17\n",
            "True\n",
            "True\n",
            "False\n",
            "True\n"
          ]
        }
      ],
      "source": [
        "def is_prime(n):\n",
        "\n",
        "\n",
        "    if n <= 1:\n",
        "      return False\n",
        "# check if the input is less than or equal to 1, prime numbers must be greater than 1\n",
        "\n",
        "    for i in range(2,n):\n",
        "        if n % i == 0:\n",
        "            return False\n",
        "# use for loop check if there are factors\n",
        "# if n is divisible by i, then n is not prime\n",
        "\n",
        "    else:\n",
        "        return True\n",
        "# if no factors are found, n is a prime number\n",
        "\n",
        "n = input('enter a number: ')\n",
        "n = int(n)\n",
        "print(is_prime(n))\n",
        "\n",
        "\n",
        "# test cases\n",
        "print(is_prime(2))      # Output: True\n",
        "print(is_prime(10))     # Output: False\n",
        "print(is_prime(17))     # Output: True"
      ]
    },
    {
      "cell_type": "markdown",
      "metadata": {
        "id": "Z6qg-fpQD04u"
      },
      "source": [
        "## 4. List Comprehension\n",
        "\n",
        "(10 points) Write a Python function called `prime_factors` that takes a relatively small integer as input and returns a list of its distinct prime factors. The function should use list comprehension to generate the list of distinct prime factors. You may use the function is_prime() defined in Q3.\n"
      ]
    },
    {
      "cell_type": "code",
      "execution_count": 81,
      "metadata": {
        "id": "2hSCjYlOD04v",
        "colab": {
          "base_uri": "https://localhost:8080/"
        },
        "outputId": "3924ae4a-6463-415f-8c8e-7f7b80eb139a"
      },
      "outputs": [
        {
          "output_type": "stream",
          "name": "stdout",
          "text": [
            "enter a number: 30\n",
            "[2, 3, 5]\n",
            "[2, 3, 5]\n",
            "[2, 7]\n",
            "[2, 3, 11]\n",
            "[2, 29]\n"
          ]
        }
      ],
      "source": [
        "def is_prime(n):\n",
        "  if n <= 1:\n",
        "    return False\n",
        "  for i in range(2,n):\n",
        "    if n % i == 0:\n",
        "      return False\n",
        "  else:\n",
        "    return True\n",
        "# use the function in q3\n",
        "\n",
        "\n",
        "def prime_factors(n):\n",
        "# find distinct prime factors of a number\n",
        "\n",
        "  factors = []\n",
        "# create a empty list to storage prime factors\n",
        "  for i in range(2,n+1):\n",
        "    if n % i == 0 and is_prime(i):\n",
        "      factors.append(i)\n",
        "# check whether every integer in the range n is a prime factor of n\n",
        "# call the is_prime function to check if i is prime\n",
        "# add prime factor to list\n",
        "  return factors\n",
        "# return list of prime factors\n",
        "\n",
        "n = input('enter a number: ')\n",
        "n = int(n)\n",
        "print(prime_factors(n))\n",
        "# print result\n",
        "\n",
        "\n",
        "\n",
        "\n",
        "# test cases\n",
        "print(prime_factors(30))  # Output: [2, 3, 5]\n",
        "print(prime_factors(56))  # Output: [2, 7]\n",
        "print(prime_factors(198))  # Output: [2, 3, 11]\n",
        "print(prime_factors(464))  # Output: [2, 29]"
      ]
    },
    {
      "cell_type": "markdown",
      "metadata": {
        "id": "dw4kZZCiD040"
      },
      "source": [
        "## 5. Recursive Functions\n",
        "(25 points) Write a function that uses recursion to generate the $n$th row of the Pascal's triangle.\n",
        "```\n",
        "              1\n",
        "           1     1\n",
        "        1     2     1\n",
        "      1    3     3     1\n",
        "   1    4     6     4    1\n",
        "1     5    10    10    5    1\n",
        "...\n",
        "...\n",
        "...\n",
        "```"
      ]
    },
    {
      "cell_type": "code",
      "execution_count": 20,
      "metadata": {
        "id": "V8QFB_gKD040",
        "colab": {
          "base_uri": "https://localhost:8080/"
        },
        "outputId": "3b3e1166-740c-41bf-880f-a119a1bfde9d"
      },
      "outputs": [
        {
          "output_type": "stream",
          "name": "stdout",
          "text": [
            "enter a number: 6\n",
            "[1, 6, 15, 20, 15, 6, 1]\n",
            "[1, 6, 15, 20, 15, 6, 1]\n"
          ]
        }
      ],
      "source": [
        "def pascal(n):\n",
        "# define a function generates the nth row of Pascal's triangle\n",
        "\n",
        "  if n == 0:\n",
        "    return[1]\n",
        "  elif n == 1:\n",
        "    return[1,1]\n",
        "# if n is 0, return a list have the single element 1, representing row 0 of Pascal's triangle\n",
        "\n",
        "\n",
        "  else:\n",
        "    row = pascal(n-1)\n",
        "# recursion calculate (n-1) rows and store results\n",
        "\n",
        "  nthrow = [1]\n",
        "# create a list containing the first element 1\n",
        "\n",
        "  for i in range(1,n):\n",
        "    nthrow.append(row[i-1] + row[i])\n",
        "  nthrow.append(1)\n",
        "# calculate remaining elements in nth_row\n",
        "# new element equal to the sum of the two elements in the previous row\n",
        "\n",
        "  return nthrow\n",
        "\n",
        "n = input('enter a number: ')\n",
        "n = int(n)\n",
        "print(pascal(n))\n",
        "#print result\n",
        "\n",
        "\n",
        "\n",
        "\n",
        "\n",
        "# test case\n",
        "print(pascal(6))  # output [1, 5, 10, 10, 5, 1]"
      ]
    },
    {
      "cell_type": "markdown",
      "metadata": {
        "id": "eZytgm0qD041"
      },
      "source": [
        "Rewrite the above function using only `while` or `for` loops instead of recursion."
      ]
    },
    {
      "cell_type": "code",
      "execution_count": 18,
      "metadata": {
        "id": "UZ8f-akaD041",
        "colab": {
          "base_uri": "https://localhost:8080/"
        },
        "outputId": "49e1850c-0f27-43d9-af6c-96c16d74a098"
      },
      "outputs": [
        {
          "output_type": "stream",
          "name": "stdout",
          "text": [
            "enter a number: 6\n",
            "[1, 6, 15, 20, 15, 6, 1]\n",
            "[1, 6, 15, 20, 15, 6, 1]\n"
          ]
        }
      ],
      "source": [
        "def pascal_by_loops(n):\n",
        "# use loops instead of recursion\n",
        "\n",
        "  if n == 0:\n",
        "    return[1]\n",
        "# if n is 0, return a list have the single element 1, representing row 0 of Pascal's triangle\n",
        "\n",
        "  row = [1]\n",
        "# creat a list to store the generated rows\n",
        "\n",
        "  for k in range(1, n + 1):\n",
        "    value = row[-1] * (n - k + 1) // k\n",
        "\n",
        "# use loop to calculate and generate the remaining elements\n",
        "# C(n,k) = C(n-1, k-1) + C(n-1,k)\n",
        "\n",
        "    row.append(value)\n",
        "# add calculated elements to the row\n",
        "\n",
        "  return row\n",
        "\n",
        "n = input('enter a number: ')\n",
        "n = int(n)\n",
        "print(pascal_by_loops(n))\n",
        "#print result\n",
        "\n",
        "\n",
        "\n",
        "# test case\n",
        "print(pascal_by_loops(6))"
      ]
    },
    {
      "cell_type": "markdown",
      "source": [
        "\n",
        "\n",
        "---\n",
        "\n",
        "\n",
        "（5 points) good coding practice and properly submitting your work to GitHub."
      ],
      "metadata": {
        "id": "HvHD6QHzVo9I"
      }
    }
  ],
  "metadata": {
    "anaconda-cloud": {},
    "kernelspec": {
      "display_name": "Python 3",
      "language": "python",
      "name": "python3"
    },
    "language_info": {
      "codemirror_mode": {
        "name": "ipython",
        "version": 3
      },
      "file_extension": ".py",
      "mimetype": "text/x-python",
      "name": "python",
      "nbconvert_exporter": "python",
      "pygments_lexer": "ipython3",
      "version": "3.7.4"
    },
    "colab": {
      "provenance": []
    }
  },
  "nbformat": 4,
  "nbformat_minor": 0
}