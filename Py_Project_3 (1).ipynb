{
  "cells": [
    {
      "cell_type": "markdown",
      "metadata": {
        "id": "xq__bChjD04e"
      },
      "source": [
        "# Python Assignment 3"
      ]
    },
    {
      "cell_type": "markdown",
      "source": [
        "⏱⏱⏱**Due: 11/02/2023 11:59 PM** ⏱⏱⏱\n",
        "\n",
        "Please submit your notebook files and upload them to your Git repository. Don't forget to include a link to your Git repository when submitting this file on Brightspace. **Please include all outputs in your notebook, including plots, printouts, etc..**\n",
        "\n",
        "Collaboration is permitted and encouraged; however, it's essential to independently produce and submit your own work. If you collaborate with others, please ensure that you provide their names in the designated section.\n",
        "\n",
        "Collaborators:_____"
      ],
      "metadata": {
        "id": "y7j2V0UDMYLG"
      }
    },
    {
      "cell_type": "markdown",
      "metadata": {
        "id": "SUS30Ew9D04n"
      },
      "source": [
        "##**For Questions 2a and 2b, you can choose one of them to complete, if you completed both, only Questions 2a will be graded.**\n",
        "\n",
        "**This assignment is out of 150 points; surplus points can be applied to other assignments (including Matlab and C/C++). However, it cannot be applied to your final project grade, and your assignment grade will not excced 75% of your total grade.**"
      ]
    },
    {
      "cell_type": "markdown",
      "source": [
        "## 1. Good presentation of your code and outputs; submitting your files to Github (10 pts)"
      ],
      "metadata": {
        "id": "KR0Fl4yAQYad"
      }
    },
    {
      "cell_type": "markdown",
      "source": [
        "Ensure thorough and clear comments within your code to explain its functionality.\n",
        "\n",
        "Enhance your plots by adding titles, legends, and axis labels where appropriate to provide clarity.\n",
        "\n",
        "If necessary, employ LaTex notation to present mathematical explanations within the notebook.\n",
        "\n",
        "Divide your code into multiple blocks or cells in Jupyter Notebook and provide descriptive explanations for each block to improve readability.\n",
        "\n",
        "As part of your submission, **include the notebook files and upload them to your Git repository. Additionally, remember to provide a link to your Git repository when submitting the files on Brightspace.** Do not submit a compressed file (.rar, .zip, etc..), submit files separately.\n",
        "\n",
        "If you are tasked with implementing a numerical algorithm, it is expected that you would not rely on pre-existing methods. For example, if you were asked to solve $Ax=b$, you should write your own program to solve, not just by calling numpy.linalg.solve.\n",
        "\n"
      ],
      "metadata": {
        "id": "9WPZWhYQkptT"
      }
    },
    {
      "cell_type": "markdown",
      "source": [
        "## 2a. Numerical Integration (30 pts)"
      ],
      "metadata": {
        "id": "U5SL2j0sqnAJ"
      }
    },
    {
      "cell_type": "markdown",
      "source": [
        "For a domain discretized into $N$ equally spaced panels:\n",
        "$$\n",
        "\\Delta x=\\frac{b-a}{N}.\n",
        "$$\n",
        "The approximation to the integral is\n",
        "$$\\begin{aligned}\n",
        "\\int_a^b f(x) d x & \\approx \\frac{\\Delta x}{2} \\sum_{k=1}^N\\left(f\\left(x_{k-1}\\right)+f\\left(x_k\\right)\\right) \\\\\n",
        "& =\\frac{\\Delta x}{2}\\left(f\\left(x_0\\right)+2 f\\left(x_1\\right)+2 f\\left(x_2\\right)+2 f\\left(x_3\\right)+\\cdots+2 f\\left(x_{N-1}\\right)+f\\left(x_N\\right)\\right) \\\\\n",
        "& =\\Delta x\\left(\\sum_{k=1}^{N-1} f\\left(x_k\\right)+\\frac{f\\left(x_N\\right)+f\\left(x_0\\right)}{2}\\right) .\n",
        "\\end{aligned}$$\n",
        "This is the trapezoid rule scheme.\n",
        "\n",
        "\n",
        "Given the function $f(x) = 3x^2 + 2x +2$, your tasks are:\n",
        "\n",
        "1. Carry out the integration symbolically using the SymPy library. Output the result (i.e. print out the result).\n",
        "2. Implement the trapezoid rule to estimate the integral $\\int_{-4}^6 f(x) dx$ using the following values of $N = 10, 20, 40, 80, 160, 320, 640, 1280$. Output the results (i.e. print out the results).\n",
        "3. Plot the absolute error (absolute difference between the numerical approximation and the SymPy result) against N.\n",
        "\n",
        "\n",
        "\n"
      ],
      "metadata": {
        "id": "OxwdE468rNAR"
      }
    },
    {
      "cell_type": "code",
      "source": [
        "# import the library\n",
        "import sympy as sp\n",
        "import numpy as np\n",
        "import matplotlib.pyplot as plt"
      ],
      "metadata": {
        "id": "3rrMgWYBd8et"
      },
      "execution_count": 7,
      "outputs": []
    },
    {
      "cell_type": "code",
      "source": [
        "# define the symbol and function\n",
        "x = sp.symbols('x')\n",
        "f = 3* x**2 + 2 * x + 2"
      ],
      "metadata": {
        "id": "6RBTm1PZd8kr"
      },
      "execution_count": 8,
      "outputs": []
    },
    {
      "cell_type": "code",
      "source": [
        "# integration symbolically\n",
        "result = sp.integrate(f,x)\n",
        "print(\"symbolic result： \" ,result)"
      ],
      "metadata": {
        "colab": {
          "base_uri": "https://localhost:8080/"
        },
        "id": "fgFIvHs7V6gd",
        "outputId": "5a11125e-dca2-4e09-8142-33608a8f4029"
      },
      "execution_count": 9,
      "outputs": [
        {
          "output_type": "stream",
          "name": "stdout",
          "text": [
            "symbolic result：  x**3 + x**2 + 2*x\n"
          ]
        }
      ]
    },
    {
      "cell_type": "code",
      "source": [
        "# define the function for numerical integration\n",
        "def f(x):\n",
        "    return 3*x**2 + 2*x + 2\n",
        "\n",
        "a = -4\n",
        "b = 6\n",
        "\n",
        "# integration limits\n",
        "x = sp.symbols('x')\n",
        "# symbolic integration\n",
        "integral_result = sp.integrate(f(x), (x, -4, 6))\n",
        "\n",
        "# define the values of N\n",
        "N_values = [10, 20, 40, 80, 160, 320, 640, 1280]\n",
        "\n",
        "# lists for storing results and errors\n",
        "results = []\n",
        "errors = []\n",
        "\n",
        "# iterate over different values of N\n",
        "for N in N_values:\n",
        "    deltax = (b-a)/N\n",
        "    sum_result = 0\n",
        "    for k in range(1,N):\n",
        "        sum_result += f(a + k * deltax)\n",
        "    # compute the result using the trapezoidal rule\n",
        "    result = deltax * (sum_result + (f(a)+f(b))/2)\n",
        "    results.append(result)\n",
        "    # calculate and store the error\n",
        "    errors.append(abs(result - integral_result))\n",
        "    # print the result\n",
        "    print(f\"when N={N} result is {result}\")\n"
      ],
      "metadata": {
        "colab": {
          "base_uri": "https://localhost:8080/"
        },
        "id": "6ndazkkXivu7",
        "outputId": "b87334f4-c8d6-4aba-e960-273e57bd8523"
      },
      "execution_count": 10,
      "outputs": [
        {
          "output_type": "stream",
          "name": "stdout",
          "text": [
            "when N=10 result is 325.0\n",
            "when N=20 result is 321.25\n",
            "when N=40 result is 320.3125\n",
            "when N=80 result is 320.078125\n",
            "when N=160 result is 320.01953125\n",
            "when N=320 result is 320.0048828125\n",
            "when N=640 result is 320.001220703125\n",
            "when N=1280 result is 320.00030517578125\n"
          ]
        }
      ]
    },
    {
      "cell_type": "code",
      "source": [
        "# plot the result\n",
        "plt.figure()\n",
        "plt.plot(N_values,errors,marker='o')\n",
        "plt.xlabel('N')\n",
        "plt.ylabel('Absolute Error')\n",
        "plt.title('Absolute Error vs. Trapezoid Rule')\n",
        "plt.grid()\n",
        "\n",
        "plt.show()\n"
      ],
      "metadata": {
        "colab": {
          "base_uri": "https://localhost:8080/",
          "height": 472
        },
        "id": "UnP3HoC2m9MZ",
        "outputId": "eb3c4c10-ea17-4998-c367-53181a42c98c"
      },
      "execution_count": 11,
      "outputs": [
        {
          "output_type": "display_data",
          "data": {
            "text/plain": [
              "<Figure size 640x480 with 1 Axes>"
            ],
            "image/png": "[encoded data removed]"
          },
          "metadata": {}
        }
      ]
    },
    {
      "cell_type": "markdown",
      "source": [
        "## 2b. Numerical Differentiation (30 pts)"
      ],
      "metadata": {
        "id": "uzMa1xSEwhe3"
      }
    },
    {
      "cell_type": "markdown",
      "source": [
        "Your tasks:\n",
        "1. Find the closed form expression of $f_{xy}(x,y)$, i.e. $\\frac{d^2}{dxdy}f(x,y)$, for $f(x,y) = \\left(sin^2\\left(x\\right)e^xcos(y)\\right)$ using `sympy`. Output the result.\n",
        "2. Find $f_{xy}(2,3)$ with `sympy` and take 15 significant digits, use it as the \"groud truth solution\". Output the result.\n",
        "3. Approximate $f_{xy}(2,3)$ using central difference approximation for the following values of $h = 0.1, 0.01, 0.001, 0.0001$. Output the results.\n",
        "4. Plot the absolute error (absolute difference between the numerical approximation and the SymPy result) against the step size $h$. `plt.gca().invert_xaxis() ` might help.\n",
        "\n",
        "Recall from the lecture:\n",
        "$$f_{x y}(x, y) \\approx \\frac{f(x+h, y+k)-f(x+h, y-k)-f(x-h, y+k)+f(x-h, y-k)}{4 h k}.$$\n",
        "For simplicity, we set $k = h$."
      ],
      "metadata": {
        "id": "FoA2lb0VxDk4"
      }
    },
    {
      "cell_type": "markdown",
      "source": [
        "## 3. Pandas I (15 pts)"
      ],
      "metadata": {
        "id": "aCgIDqeLBPjj"
      }
    },
    {
      "cell_type": "markdown",
      "source": [
        "1. Create a 3x4 (3 rows by 4 columns) pandas DataFrame with the columns named after the following Long Island towns: Hempstead, Babylon, Islip, and Brookhaven. The rows represent 'Population in 2099', 'Population in 2300', 'Population in 2400'. Fill each of the 12 cells in the DataFrame with a random integer from 1000 to 10000, inclusive. `np.random.randint()` might be helpful.\n",
        "For Example:\n",
        "\n",
        "```\n",
        "                    Hempstead  Babylon  Islip  Brookhaven\n",
        "Population in 2099       2931     8043   8414        8661\n",
        "Population in 2300       5444     9227   7393        8007\n",
        "Population in 2400       1660     7977   4730        2940\n",
        "```\n",
        "\n",
        "\n",
        "\n",
        "2. Output the following:\n",
        "  - The entire DataFrame.\n",
        "  - The value in the cell of row #1 (indexing starts with 0) under the Hempstead column.\n",
        "\n",
        "3. Add a new column named Riverhead. Populate this column with the sum of the respective row values from the Islip and Brookhaven columns. Output the entire DataFrame again."
      ],
      "metadata": {
        "id": "O1w1avrtBYD5"
      }
    },
    {
      "cell_type": "code",
      "source": [
        "#import the library\n",
        "import pandas as pd\n",
        "import numpy as np"
      ],
      "metadata": {
        "id": "O85sUsAcUxzX"
      },
      "execution_count": 12,
      "outputs": []
    },
    {
      "cell_type": "code",
      "source": [
        "#creat the row and columns name\n",
        "towns = ['Hempstead', 'Babylon', 'Islip', 'Brookhaven']\n",
        "poplulation = ['Population in 2099', 'Population in 2300', 'Population in 2400']\n",
        "\n",
        "#define the data\n",
        "data = np.random.randint(1000, 10000, size=(3,4))\n",
        "# creat the dataframe\n",
        "df = pd.DataFrame(data,columns=towns,index=poplulation)\n",
        "\n",
        "print(df)"
      ],
      "metadata": {
        "colab": {
          "base_uri": "https://localhost:8080/"
        },
        "id": "hvJzQDTCUx6N",
        "outputId": "5cc68ad1-5ebd-4a97-c62d-c648aca2a067"
      },
      "execution_count": 13,
      "outputs": [
        {
          "output_type": "stream",
          "name": "stdout",
          "text": [
            "                    Hempstead  Babylon  Islip  Brookhaven\n",
            "Population in 2099       3076     1735   2418        9000\n",
            "Population in 2300       2400     8771   6483        2574\n",
            "Population in 2400       6430     6166   4718        4232\n"
          ]
        }
      ]
    },
    {
      "cell_type": "code",
      "source": [
        "#show the value of row#1\n",
        "df['Hempstead'].iloc[1]"
      ],
      "metadata": {
        "colab": {
          "base_uri": "https://localhost:8080/"
        },
        "id": "He1uxUgIVv0z",
        "outputId": "d07c7e1b-2535-480c-ea10-23d488c2bf58"
      },
      "execution_count": 14,
      "outputs": [
        {
          "output_type": "execute_result",
          "data": {
            "text/plain": [
              "2400"
            ]
          },
          "metadata": {},
          "execution_count": 14
        }
      ]
    },
    {
      "cell_type": "code",
      "source": [
        "#add new column\n",
        "df['Riverhead'] = df['Islip'] + df['Brookhaven']\n",
        "\n",
        "print(df)"
      ],
      "metadata": {
        "colab": {
          "base_uri": "https://localhost:8080/"
        },
        "id": "WbEJ-XHhVv34",
        "outputId": "68697b25-6b28-403b-c670-8e579a64c35a"
      },
      "execution_count": 15,
      "outputs": [
        {
          "output_type": "stream",
          "name": "stdout",
          "text": [
            "                    Hempstead  Babylon  Islip  Brookhaven  Riverhead\n",
            "Population in 2099       3076     1735   2418        9000      11418\n",
            "Population in 2300       2400     8771   6483        2574       9057\n",
            "Population in 2400       6430     6166   4718        4232       8950\n"
          ]
        }
      ]
    },
    {
      "cell_type": "markdown",
      "source": [
        "## 4. Pandas II (15 pts)"
      ],
      "metadata": {
        "id": "WqHDjQC-KLjo"
      }
    },
    {
      "cell_type": "markdown",
      "source": [
        "0. Download the cvs file that comes with this assignment, and read it into a dataframe. You can also download this [csv file](https://media.githubusercontent.com/media/datablist/sample-csv-files/main/files/customers/customers-100.csv) with this link.\n",
        "1. Arrange the data in alphabetical order based on the last name. Display the first few rows.\n",
        "2. Count the number of customers whose subscription date is in 2021 (2021-01-01 to 2021-12-31). Report this number (e.g. print)."
      ],
      "metadata": {
        "id": "w6kHh8BENzHk"
      }
    },
    {
      "cell_type": "code",
      "source": [
        "#import the library\n",
        "import pandas as pd"
      ],
      "metadata": {
        "id": "ycFONWkbe7uY"
      },
      "execution_count": 16,
      "outputs": []
    },
    {
      "cell_type": "code",
      "source": [
        "from google.colab import files\n",
        "uploaded = files.upload()\n"
      ],
      "metadata": {
        "colab": {
          "base_uri": "https://localhost:8080/",
          "height": 76
        },
        "id": "MRHGVlrLe7xd",
        "outputId": "cb51f3c7-3c4c-4a28-c3dd-50ace1b7c6a7"
      },
      "execution_count": 17,
      "outputs": [
        {
          "output_type": "display_data",
          "data": {
            "text/plain": [
              "<IPython.core.display.HTML object>"
            ],
            "text/html": [
              "\n",
              "     <input type=\"file\" id=\"files-e0386ef3-9607-479f-83f1-ea3be4054f54\" name=\"files[]\" multiple disabled\n",
              "        style=\"border:none\" />\n",
              "     <output id=\"result-e0386ef3-9607-479f-83f1-ea3be4054f54\">\n",
              "      Upload widget is only available when the cell has been executed in the\n",
              "      current browser session. Please rerun this cell to enable.\n",
              "      </output>\n",
              "      <script>// Copyright 2017 Google LLC\n",
              "//\n",
              "// Licensed under the Apache License, Version 2.0 (the \"License\");\n",
              "// you may not use this file except in compliance with the License.\n",
              "// You may obtain a copy of the License at\n",
              "//\n",
              "//      http://www.apache.org/licenses/LICENSE-2.0\n",
              "//\n",
              "// Unless required by applicable law or agreed to in writing, software\n",
              "// distributed under the License is distributed on an \"AS IS\" BASIS,\n",
              "// WITHOUT WARRANTIES OR CONDITIONS OF ANY KIND, either express or implied.\n",
              "// See the License for the specific language governing permissions and\n",
              "// limitations under the License.\n",
              "\n",
              "/**\n",
              " * @fileoverview Helpers for google.colab Python module.\n",
              " */\n",
              "(function(scope) {\n",
              "function span(text, styleAttributes = {}) {\n",
              "  const element = document.createElement('span');\n",
              "  element.textContent = text;\n",
              "  for (const key of Object.keys(styleAttributes)) {\n",
              "    element.style[key] = styleAttributes[key];\n",
              "  }\n",
              "  return element;\n",
              "}\n",
              "\n",
              "// Max number of bytes which will be uploaded at a time.\n",
              "const MAX_PAYLOAD_SIZE = 100 * 1024;\n",
              "\n",
              "function _uploadFiles(inputId, outputId) {\n",
              "  const steps = uploadFilesStep(inputId, outputId);\n",
              "  const outputElement = document.getElementById(outputId);\n",
              "  // Cache steps on the outputElement to make it available for the next call\n",
              "  // to uploadFilesContinue from Python.\n",
              "  outputElement.steps = steps;\n",
              "\n",
              "  return _uploadFilesContinue(outputId);\n",
              "}\n",
              "\n",
              "// This is roughly an async generator (not supported in the browser yet),\n",
              "// where there are multiple asynchronous steps and the Python side is going\n",
              "// to poll for completion of each step.\n",
              "// This uses a Promise to block the python side on completion of each step,\n",
              "// then passes the result of the previous step as the input to the next step.\n",
              "function _uploadFilesContinue(outputId) {\n",
              "  const outputElement = document.getElementById(outputId);\n",
              "  const steps = outputElement.steps;\n",
              "\n",
              "  const next = steps.next(outputElement.lastPromiseValue);\n",
              "  return Promise.resolve(next.value.promise).then((value) => {\n",
              "    // Cache the last promise value to make it available to the next\n",
              "    // step of the generator.\n",
              "    outputElement.lastPromiseValue = value;\n",
              "    return next.value.response;\n",
              "  });\n",
              "}\n",
              "\n",
              "/**\n",
              " * Generator function which is called between each async step of the upload\n",
              " * process.\n",
              " * @param {string} inputId Element ID of the input file picker element.\n",
              " * @param {string} outputId Element ID of the output display.\n",
              " * @return {!Iterable<!Object>} Iterable of next steps.\n",
              " */\n",
              "function* uploadFilesStep(inputId, outputId) {\n",
              "  const inputElement = document.getElementById(inputId);\n",
              "  inputElement.disabled = false;\n",
              "\n",
              "  const outputElement = document.getElementById(outputId);\n",
              "  outputElement.innerHTML = '';\n",
              "\n",
              "  const pickedPromise = new Promise((resolve) => {\n",
              "    inputElement.addEventListener('change', (e) => {\n",
              "      resolve(e.target.files);\n",
              "    });\n",
              "  });\n",
              "\n",
              "  const cancel = document.createElement('button');\n",
              "  inputElement.parentElement.appendChild(cancel);\n",
              "  cancel.textContent = 'Cancel upload';\n",
              "  const cancelPromise = new Promise((resolve) => {\n",
              "    cancel.onclick = () => {\n",
              "      resolve(null);\n",
              "    };\n",
              "  });\n",
              "\n",
              "  // Wait for the user to pick the files.\n",
              "  const files = yield {\n",
              "    promise: Promise.race([pickedPromise, cancelPromise]),\n",
              "    response: {\n",
              "      action: 'starting',\n",
              "    }\n",
              "  };\n",
              "\n",
              "  cancel.remove();\n",
              "\n",
              "  // Disable the input element since further picks are not allowed.\n",
              "  inputElement.disabled = true;\n",
              "\n",
              "  if (!files) {\n",
              "    return {\n",
              "      response: {\n",
              "        action: 'complete',\n",
              "      }\n",
              "    };\n",
              "  }\n",
              "\n",
              "  for (const file of files) {\n",
              "    const li = document.createElement('li');\n",
              "    li.append(span(file.name, {fontWeight: 'bold'}));\n",
              "    li.append(span(\n",
              "        `(${file.type || 'n/a'}) - ${file.size} bytes, ` +\n",
              "        `last modified: ${\n",
              "            file.lastModifiedDate ? file.lastModifiedDate.toLocaleDateString() :\n",
              "                                    'n/a'} - `));\n",
              "    const percent = span('0% done');\n",
              "    li.appendChild(percent);\n",
              "\n",
              "    outputElement.appendChild(li);\n",
              "\n",
              "    const fileDataPromise = new Promise((resolve) => {\n",
              "      const reader = new FileReader();\n",
              "      reader.onload = (e) => {\n",
              "        resolve(e.target.result);\n",
              "      };\n",
              "      reader.readAsArrayBuffer(file);\n",
              "    });\n",
              "    // Wait for the data to be ready.\n",
              "    let fileData = yield {\n",
              "      promise: fileDataPromise,\n",
              "      response: {\n",
              "        action: 'continue',\n",
              "      }\n",
              "    };\n",
              "\n",
              "    // Use a chunked sending to avoid message size limits. See b/62115660.\n",
              "    let position = 0;\n",
              "    do {\n",
              "      const length = Math.min(fileData.byteLength - position, MAX_PAYLOAD_SIZE);\n",
              "      const chunk = new Uint8Array(fileData, position, length);\n",
              "      position += length;\n",
              "\n",
              "      const base64 = btoa(String.fromCharCode.apply(null, chunk));\n",
              "      yield {\n",
              "        response: {\n",
              "          action: 'append',\n",
              "          file: file.name,\n",
              "          data: base64,\n",
              "        },\n",
              "      };\n",
              "\n",
              "      let percentDone = fileData.byteLength === 0 ?\n",
              "          100 :\n",
              "          Math.round((position / fileData.byteLength) * 100);\n",
              "      percent.textContent = `${percentDone}% done`;\n",
              "\n",
              "    } while (position < fileData.byteLength);\n",
              "  }\n",
              "\n",
              "  // All done.\n",
              "  yield {\n",
              "    response: {\n",
              "      action: 'complete',\n",
              "    }\n",
              "  };\n",
              "}\n",
              "\n",
              "scope.google = scope.google || {};\n",
              "scope.google.colab = scope.google.colab || {};\n",
              "scope.google.colab._files = {\n",
              "  _uploadFiles,\n",
              "  _uploadFilesContinue,\n",
              "};\n",
              "})(self);\n",
              "</script> "
            ]
          },
          "metadata": {}
        },
        {
          "output_type": "stream",
          "name": "stdout",
          "text": [
            "Saving customers-100.csv to customers-100.csv\n"
          ]
        }
      ]
    },
    {
      "cell_type": "code",
      "source": [
        "#creat the dataframe and read\n",
        "df = pd.read_csv('customers-100.csv')\n",
        "print(df.head())"
      ],
      "metadata": {
        "colab": {
          "base_uri": "https://localhost:8080/"
        },
        "id": "8DWYW2q_e70N",
        "outputId": "b144f63e-3c87-4cb6-8e68-2254ece3db0a"
      },
      "execution_count": 18,
      "outputs": [
        {
          "output_type": "stream",
          "name": "stdout",
          "text": [
            "   Index      Customer Id First Name Last Name  \\\n",
            "0      1  DD37Cf93aecA6Dc     Sheryl    Baxter   \n",
            "1      2  1Ef7b82A4CAAD10    Preston    Lozano   \n",
            "2      3  6F94879bDAfE5a6        Roy     Berry   \n",
            "3      4  5Cef8BFA16c5e3c      Linda     Olsen   \n",
            "4      5  053d585Ab6b3159     Joanna    Bender   \n",
            "\n",
            "                           Company               City  \\\n",
            "0                  Rasmussen Group       East Leonard   \n",
            "1                      Vega-Gentry  East Jimmychester   \n",
            "2                    Murillo-Perry      Isabelborough   \n",
            "3  Dominguez, Mcmillan and Donovan         Bensonview   \n",
            "4         Martin, Lang and Andrade     West Priscilla   \n",
            "\n",
            "                      Country                 Phone 1                Phone 2  \\\n",
            "0                       Chile            229.077.5154       397.884.0519x718   \n",
            "1                    Djibouti              5153435776       686-620-1820x944   \n",
            "2         Antigua and Barbuda         +1-539-402-0259    (496)978-3969x58947   \n",
            "3          Dominican Republic  001-808-617-6467x12895        +1-813-324-8756   \n",
            "4  Slovakia (Slovak Republic)  001-234-203-0635x76146  001-199-446-3860x3486   \n",
            "\n",
            "                         Email Subscription Date                      Website  \n",
            "0     zunigavanessa@smith.info        2020-08-24   http://www.stephenson.com/  \n",
            "1              vmata@colon.com        2021-04-23        http://www.hobbs.com/  \n",
            "2          beckycarr@hogan.com        2020-03-25     http://www.lawrence.com/  \n",
            "3  stanleyblackwell@benson.org        2020-06-02   http://www.good-lyons.com/  \n",
            "4      colinalvarado@miles.net        2021-04-17  https://goodwin-ingram.com/  \n"
          ]
        }
      ]
    },
    {
      "cell_type": "code",
      "source": [
        "#arrange the data and display first few rows\n",
        "df_sort = df.sort_values(by='Last Name')\n",
        "print(df_sort.head())"
      ],
      "metadata": {
        "colab": {
          "base_uri": "https://localhost:8080/"
        },
        "id": "aiuvmdurh8Ul",
        "outputId": "4902e277-0f97-4d8e-a473-d40203563136"
      },
      "execution_count": 19,
      "outputs": [
        {
          "output_type": "stream",
          "name": "stdout",
          "text": [
            "    Index      Customer Id First Name Last Name                Company  \\\n",
            "67     68  a014Ec1b9FccC1E        Tom  Alvarado    Donaldson-Dougherty   \n",
            "96     97  CeD220bdAaCfaDf       Lynn  Atkinson  Ware, Burns and Oneal   \n",
            "92     93  aAb6AFc7AfD0fF3     Collin     Ayers          Lamb-Peterson   \n",
            "0       1  DD37Cf93aecA6Dc     Sheryl    Baxter        Rasmussen Group   \n",
            "15     16  8cad0b4CBceaeec    Miranda   Beasley     Singleton and Sons   \n",
            "\n",
            "                City    Country             Phone 1                Phone 2  \\\n",
            "67  South Sophiaberg   Kiribati  (585)606-2980x2258      730-797-3594x5614   \n",
            "96      New Bradview  Sri Lanka     +1-846-706-2218           605.413.3198   \n",
            "92      South Lonnie   Anguilla    404-645-5351x012  001-257-582-8850x8516   \n",
            "0       East Leonard      Chile        229.077.5154       397.884.0519x718   \n",
            "15      Desireeshire       Oman    540.085.3135x185  +1-600-462-6432x21881   \n",
            "\n",
            "                            Email Subscription Date  \\\n",
            "67  nicholsonnina@montgomery.info        2020-08-18   \n",
            "96              vkemp@ferrell.com        2021-07-10   \n",
            "92       dudleyemily@gonzales.biz        2021-06-29   \n",
            "0        zunigavanessa@smith.info        2020-08-24   \n",
            "15        vduncan@parks-hardy.com        2022-04-12   \n",
            "\n",
            "                       Website  \n",
            "67     http://odom-massey.com/  \n",
            "96  https://novak-allison.com/  \n",
            "92        http://www.ruiz.com/  \n",
            "0   http://www.stephenson.com/  \n",
            "15          http://acosta.org/  \n"
          ]
        }
      ]
    },
    {
      "cell_type": "code",
      "source": [
        "# convert to datetime format\n",
        "df['Subscription Date'] = pd.to_datetime(df['Subscription Date'])"
      ],
      "metadata": {
        "id": "bJrsmpGdiVaR"
      },
      "execution_count": 20,
      "outputs": []
    },
    {
      "cell_type": "code",
      "source": [
        "# count the number of customers of 2021\n",
        "customer = df[df['Subscription Date'].dt.year == 2021]\n",
        "num = len(customer)\n",
        "print(customer.head())\n"
      ],
      "metadata": {
        "colab": {
          "base_uri": "https://localhost:8080/"
        },
        "id": "EH9gI7bViVdT",
        "outputId": "a572efcb-8077-4ce0-b3b9-d386ba05e47c"
      },
      "execution_count": 21,
      "outputs": [
        {
          "output_type": "stream",
          "name": "stdout",
          "text": [
            "   Index      Customer Id First Name  Last Name                       Company  \\\n",
            "1      2  1Ef7b82A4CAAD10    Preston     Lozano                   Vega-Gentry   \n",
            "4      5  053d585Ab6b3159     Joanna     Bender      Martin, Lang and Andrade   \n",
            "6      7  EA4d384DfDbBf77     Darren       Peck  Lester, Woodard and Mitchell   \n",
            "7      8  0e04AFde9f225dE      Brett     Mullen  Sanford, Davenport and Giles   \n",
            "9     10  8C2811a503C7c5a   Michelle  Gallagher                  Beck-Hendrix   \n",
            "\n",
            "                City                     Country                 Phone 1  \\\n",
            "1  East Jimmychester                    Djibouti              5153435776   \n",
            "4     West Priscilla  Slovakia (Slovak Republic)  001-234-203-0635x76146   \n",
            "6           Lake Ana            Pitcairn Islands      (496)452-6181x3291   \n",
            "7            Kimport                    Bulgaria    001-583-352-7197x297   \n",
            "9         Elaineberg                 Timor-Leste        739.218.2516x459   \n",
            "\n",
            "                 Phone 2                    Email Subscription Date  \\\n",
            "1       686-620-1820x944          vmata@colon.com        2021-04-23   \n",
            "4  001-199-446-3860x3486  colinalvarado@miles.net        2021-04-17   \n",
            "6   +1-247-266-0963x4995      tgates@cantrell.com        2021-08-24   \n",
            "7       001-333-145-0369          asnow@colon.com        2021-04-12   \n",
            "9   001-054-401-0347x617        mdyer@escobar.net        2021-11-08   \n",
            "\n",
            "                       Website  \n",
            "1        http://www.hobbs.com/  \n",
            "4  https://goodwin-ingram.com/  \n",
            "6          https://www.le.com/  \n",
            "7  https://hammond-ramsey.com/  \n",
            "9           https://arias.com/  \n"
          ]
        }
      ]
    },
    {
      "cell_type": "code",
      "source": [
        "print(num)"
      ],
      "metadata": {
        "colab": {
          "base_uri": "https://localhost:8080/"
        },
        "id": "eX5CRPPriVgJ",
        "outputId": "b5ceea45-642c-481c-d2c7-e7bd851755a3"
      },
      "execution_count": 22,
      "outputs": [
        {
          "output_type": "stream",
          "name": "stdout",
          "text": [
            "43\n"
          ]
        }
      ]
    },
    {
      "cell_type": "markdown",
      "source": [
        "## 5. LU decomposition (50 + 30 pts)\n"
      ],
      "metadata": {
        "id": "aBpXtK8VvApb"
      }
    },
    {
      "cell_type": "markdown",
      "source": [
        "Part A (50 points)\n",
        "1. Write a function `LUdecomposition()` that takes as input a matrix $A\\in \\mathbb{R}^{n \\times n}$. Perform Gaussian Elimination to have this function return two matrices $L$ and $U$ such that $A=LU$.\n",
        "2. Your function should raise any relevant errors, for example, raise an error if a pure LU decomposition does not exist for $A$ (meaning that you have to perform pivoting, i.e., permutation of rows).\n",
        "3. Create several random matrices for the purpose of testing your function. Obtain the $L$ and $U$ matrices, and for each random matrix obtain its L and U matrices and perform a matrix multiplication (`np.matmul()`) to determine whether the outcome closely resembles the original matrix $A$, allowing for slight differences attributable to precision errors.\n",
        "\n",
        "\n",
        "Note: LU decomposition with Gaussian elimination should be covered in your undergraduate linear algebra class. It is also covered in AMS 510. If you do not know how, this 10 minute [video](https://www.youtube.com/watch?v=UlWcofkUDDU&ab_channel=Mathispower4u) explains it very well.\n",
        "\n",
        "Part B (30 bonus points)\n",
        "4. Not all square matrices have a pure LU decomposition. However, PLU decomposition always exists. Write another function `pivoting()` that takes as input a matrix $A$ and return the permutation/pivoting matrix $P$ such that $PA$ always has a pure LU decomposition.\n",
        "5. Find an example $A$ for which `LUdecomposition()` raises an error. Then, use `pivoting()` to find $P$, and find the pure LU decomposition of $PA$. Verify that indeed $PA = LU$ with matrix multiplication (`np.matmul()`).\n",
        "\n",
        "\n",
        "Hint: Please do not print out a giant matrix and visually examine the outcomes. Think of a way to verify your results and output a boolean value.\n"
      ],
      "metadata": {
        "id": "ryafNieevrgZ"
      }
    },
    {
      "cell_type": "code",
      "source": [
        "# import the library\n",
        "import numpy as np"
      ],
      "metadata": {
        "id": "feSXKnIk1PyL"
      },
      "execution_count": 75,
      "outputs": []
    },
    {
      "cell_type": "code",
      "source": [
        "# LU decomposition\n",
        "def LUdecomposition(A):\n",
        "    A = A.astype('float64')\n",
        "    n = len(A)\n",
        "    L = np.zeros((n,n))\n",
        "    U = np.copy(A)\n",
        "\n",
        "    # loop over the rows and columns\n",
        "    for i in range(n):\n",
        "      # find row with the maximum value\n",
        "        max_row = max(range(i,n), key=lambda x: abs(U[x,i]))\n",
        "        if max_row != i:\n",
        "            U[[i,max_row]] = U[[max_row,i]]\n",
        "            L[[i,max_row]] = L[[max_row,i]]\n",
        "            if i >= 1:\n",
        "                L[[i,max_row],:i] = L[[max_row,i],:i]\n",
        "        #  raise error if the LU decomposition doesnot exist\n",
        "        if U[i,i] == 0:\n",
        "            raise ValueError(\"LU decomposition does not exist\")\n",
        "\n",
        "        L[i,i] = 1\n",
        "        # perform Gaussian elimination\n",
        "        for j in range(i+1,n):\n",
        "            L[j,i] = U[j,i] / U[i,i]\n",
        "            U[j,:] -= L[j,i] * U[i,:]\n",
        "\n",
        "    return L,U"
      ],
      "metadata": {
        "id": "oZTKSuzQ1P1I"
      },
      "execution_count": 76,
      "outputs": []
    },
    {
      "cell_type": "code",
      "source": [
        "# create input matrix\n",
        "A = np.array([[1,-1,1],[-1,-1,1],[-1,1,1]])\n",
        "# apply LU decomposition\n",
        "L,U = LUdecomposition(A)\n",
        "\n",
        "print(\"L:\")\n",
        "print(L)\n",
        "print(\"U:\")\n",
        "print(U)"
      ],
      "metadata": {
        "id": "bbSRsaHA1P4T",
        "colab": {
          "base_uri": "https://localhost:8080/"
        },
        "outputId": "8e700322-16b0-4b0d-d4c5-2bbac5e345f3"
      },
      "execution_count": 77,
      "outputs": [
        {
          "output_type": "stream",
          "name": "stdout",
          "text": [
            "L:\n",
            "[[ 1.  0.  0.]\n",
            " [-1.  1.  0.]\n",
            " [-1. -0.  1.]]\n",
            "U:\n",
            "[[ 1. -1.  1.]\n",
            " [ 0. -2.  2.]\n",
            " [ 0.  0.  2.]]\n"
          ]
        }
      ]
    },
    {
      "cell_type": "code",
      "source": [
        "# test LU decomposition of random matrices\n",
        "for i in range(5):\n",
        "    A_test = np.random.rand(3,3)\n",
        "    L,U = LUdecomposition(A_test)\n",
        "    # reconstruct the original matrix from the decomposed matrices\n",
        "    A_reconstructed = np.matmul(L,U)\n",
        "    # calculate maximum absolute error\n",
        "    error = np.max(np.abs(A_test - A_reconstructed))\n",
        "\n",
        "    print(\"original matrix A:\")\n",
        "    print(A_test)\n",
        "    print(\"reconstructed A:\")\n",
        "    print(A_reconstructed)\n",
        "    print(f\"max absolute error: {error}\")"
      ],
      "metadata": {
        "colab": {
          "base_uri": "https://localhost:8080/"
        },
        "id": "U7tvlnqlQpCE",
        "outputId": "401167dc-a749-4052-c414-f5aefe45aa1a"
      },
      "execution_count": 78,
      "outputs": [
        {
          "output_type": "stream",
          "name": "stdout",
          "text": [
            "original matrix A:\n",
            "[[0.32622349 0.82062627 0.0773658 ]\n",
            " [0.03636596 0.68506823 0.36299385]\n",
            " [0.94037034 0.17051799 0.41166603]]\n",
            "reconstructed A:\n",
            "[[ 0.94037034  0.17051799  0.41166603]\n",
            " [ 0.03636596  0.76806621 -0.04952516]\n",
            " [ 0.32622349  0.73762829  0.48988482]]\n",
            "max absolute error: 0.6501082841763606\n",
            "original matrix A:\n",
            "[[0.39856856 0.51057346 0.15690928]\n",
            " [0.98266621 0.63275257 0.92966886]\n",
            " [0.63970549 0.63589813 0.60099903]]\n",
            "reconstructed A:\n",
            "[[0.98266621 0.63275257 0.92966886]\n",
            " [0.39856856 0.51057346 0.15690928]\n",
            " [0.63970549 0.63589813 0.60099903]]\n",
            "max absolute error: 0.7727595811514726\n",
            "original matrix A:\n",
            "[[0.24621572 0.28668015 0.16683275]\n",
            " [0.70751981 0.85613822 0.21944594]\n",
            " [0.0620833  0.40345845 0.96571044]]\n",
            "reconstructed A:\n",
            "[[0.70751981 0.85613822 0.21944594]\n",
            " [0.24621572 0.62626889 1.02282136]\n",
            " [0.0620833  0.06386971 0.10972182]]\n",
            "max absolute error: 0.8559886135215135\n",
            "original matrix A:\n",
            "[[0.14462775 0.55547391 0.77659425]\n",
            " [0.19490942 0.34874051 0.22267344]\n",
            " [0.46692842 0.9351379  0.63121918]]\n",
            "reconstructed A:\n",
            "[[0.46692842 0.9351379  0.63121918]\n",
            " [0.19490942 0.6561752  0.84456774]\n",
            " [0.14462775 0.24803922 0.15469995]]\n",
            "max absolute error: 0.6870986759292312\n",
            "original matrix A:\n",
            "[[0.11053451 0.34277275 0.70375281]\n",
            " [0.99452843 0.3620015  0.51895523]\n",
            " [0.22383026 0.34747002 0.13291907]]\n",
            "reconstructed A:\n",
            "[[0.99452843 0.3620015  0.51895523]\n",
            " [0.11053451 0.34277275 0.70375281]\n",
            " [0.22383026 0.34747002 0.13291907]]\n",
            "max absolute error: 0.88399391425401\n"
          ]
        }
      ]
    },
    {
      "cell_type": "code",
      "source": [],
      "metadata": {
        "id": "7PJKFMJbQpF8"
      },
      "execution_count": null,
      "outputs": []
    },
    {
      "cell_type": "code",
      "source": [
        "# partial pivoting\n",
        "def pivoting(A):\n",
        "    #extract dimension\n",
        "    n = A.shape[0]\n",
        "    P = np.eye(n)\n",
        "\n",
        "    # loop through the rows\n",
        "    for i in range(n):\n",
        "        # find the row with the maximum absolute value\n",
        "        max_row = np.argmax(np.abs(A[i:,i])) + i\n",
        "        # swap row if the current row is not the row with the maximum absolute value\n",
        "        if i != max_row:\n",
        "            P[[i,max_row]] = P[[max_row,i]]\n",
        "\n",
        "    return P\n",
        "\n",
        "# example\n",
        "A_example = np.array([[1,2,3],[4,5,6],[7,8,9]])\n",
        "# apply partial pivoting\n",
        "P_example = pivoting(A_example)\n",
        "print(\"P:\")\n",
        "print(P_example)\n",
        "print(\"PA:\")\n",
        "print(np.matmul(P_example, A_example))\n"
      ],
      "metadata": {
        "colab": {
          "base_uri": "https://localhost:8080/"
        },
        "id": "KNSf0OrSp2zG",
        "outputId": "4405f379-bdc4-4eed-f229-1fab91c1f5d3"
      },
      "execution_count": 79,
      "outputs": [
        {
          "output_type": "stream",
          "name": "stdout",
          "text": [
            "P:\n",
            "[[0. 0. 1.]\n",
            " [1. 0. 0.]\n",
            " [0. 1. 0.]]\n",
            "PA:\n",
            "[[7. 8. 9.]\n",
            " [1. 2. 3.]\n",
            " [4. 5. 6.]]\n"
          ]
        }
      ]
    },
    {
      "cell_type": "code",
      "source": [
        "# LU decomposition\n",
        "def LUdecomposition(A):\n",
        "    n = A.shape[0]\n",
        "    L = np.eye(n)\n",
        "    U = A.copy()\n",
        "\n",
        "    # loop through the column\n",
        "    for k in range(n):\n",
        "        if U[k,k] == 0:\n",
        "            # raise error\n",
        "            raise ValueError(\"LU decomposition does not exist\")\n",
        "\n",
        "        #Gaussian elimination\n",
        "        for i in range(k+1,n):\n",
        "            # calculate the factor for the current row\n",
        "            factor = U[i,k]/U[k,k]\n",
        "            # the lower triangular matrix with the factor\n",
        "            L[i,k] = factor\n",
        "            # remain part of the matrix after elimination\n",
        "            U[i,k:] -= factor * U[k,k:]\n",
        "\n",
        "    return L,U"
      ],
      "metadata": {
        "id": "th2Gtuo8p21v"
      },
      "execution_count": 80,
      "outputs": []
    },
    {
      "cell_type": "code",
      "source": [
        "# partial pivoting same as before\n",
        "def pivoting(A):\n",
        "    #extract dimension\n",
        "    n = A.shape[0]\n",
        "    P = np.eye(n)\n",
        "\n",
        "    # loop through the rows\n",
        "    for i in range(n):\n",
        "        # find the row with the maximum absolute value\n",
        "        max_row = np.argmax(np.abs(A[i:,i])) + i\n",
        "        # swap row if the current row is not the row with the maximum absolute value\n",
        "        if i != max_row:\n",
        "            P[[i,max_row]] = P[[max_row,i]]\n",
        "\n",
        "    return P\n",
        "\n",
        "# example\n",
        "A_example = np.array([[1,2,3],[4,5,6],[7,8,9]])\n",
        "# apply partial pivoting\n",
        "P_example = pivoting(A_example)\n",
        "\n",
        "# calculate PA\n",
        "PA = np.matmul(P_example,A_example)\n",
        "# apply LU decomposition to PA\n",
        "L,U = LUdecomposition(PA)\n",
        "\n",
        "# reconstruct PA\n",
        "PA_reconstructed = np.matmul(L,U)"
      ],
      "metadata": {
        "id": "jZM66xZ6p24c"
      },
      "execution_count": 81,
      "outputs": []
    },
    {
      "cell_type": "code",
      "source": [
        "# print results\n",
        "print(\"A:\")\n",
        "print(A_example)\n",
        "print(\"P:\")\n",
        "print(P_example)\n",
        "print(\"PA:\")\n",
        "print(PA)\n",
        "print(\"L:\")\n",
        "print(L)\n",
        "print(\"U:\")\n",
        "print(U)\n",
        "print(\"LU:\")\n",
        "print(PA_reconstructed)"
      ],
      "metadata": {
        "colab": {
          "base_uri": "https://localhost:8080/"
        },
        "id": "p90SiH4Kqawn",
        "outputId": "8f9c1a00-9500-458b-f429-a5fd3c5c041a"
      },
      "execution_count": 82,
      "outputs": [
        {
          "output_type": "stream",
          "name": "stdout",
          "text": [
            "A:\n",
            "[[1 2 3]\n",
            " [4 5 6]\n",
            " [7 8 9]]\n",
            "P:\n",
            "[[0. 0. 1.]\n",
            " [1. 0. 0.]\n",
            " [0. 1. 0.]]\n",
            "PA:\n",
            "[[7. 8. 9.]\n",
            " [1. 2. 3.]\n",
            " [4. 5. 6.]]\n",
            "L:\n",
            "[[1.         0.         0.        ]\n",
            " [0.14285714 1.         0.        ]\n",
            " [0.57142857 0.5        1.        ]]\n",
            "U:\n",
            "[[7.00000000e+00 8.00000000e+00 9.00000000e+00]\n",
            " [0.00000000e+00 8.57142857e-01 1.71428571e+00]\n",
            " [0.00000000e+00 5.55111512e-17 1.11022302e-16]]\n",
            "LU:\n",
            "[[7. 8. 9.]\n",
            " [1. 2. 3.]\n",
            " [4. 5. 6.]]\n"
          ]
        }
      ]
    },
    {
      "cell_type": "code",
      "source": [],
      "metadata": {
        "id": "yPygI6T-qayx"
      },
      "execution_count": null,
      "outputs": []
    },
    {
      "cell_type": "markdown",
      "source": [
        "Fact: LU and PLU decompositions are not unique."
      ],
      "metadata": {
        "id": "QlP_giLsQRPM"
      }
    },
    {
      "cell_type": "markdown",
      "source": [
        "## 6. Markov Chain (30 pts)"
      ],
      "metadata": {
        "id": "X_4ITuoU53KF"
      }
    },
    {
      "cell_type": "markdown",
      "source": [
        "**BACKGROUND:** Consider a Markov chain transition matrix $P$ on a set of $n$ states, where $P_{i j}$ corresponds to the probability $\\left(0 \\leq P_{i j} \\leq 1\\right)$ to go from state $i$ to the state $j$, and each row is normalized so that\n",
        "$$\n",
        "\\sum_{j=1}^n P_{i j}=1 .\n",
        "$$\n",
        "\n",
        "Let $p$ be a size- $n$ vector composed of the probability distribution over the $n$ states, where\n",
        "$$\n",
        "\\sum_{j=1}^n p_j=1 .\n",
        "$$\n",
        "\n",
        "The transition rule corresponding to the transition matrix $P$ is $\\hat{p}=P^T p$, where $\\hat{p}$ corresponds to a new probability distribution and\n",
        "$$\n",
        "\\sum_{j=1}^n \\hat{p}_j=1 .\n",
        "$$\n",
        "TASK: Write a program that works with 5 states `only use the numpy library`. In particular,\n",
        "0. Fix the random seed to be the last digit of your id: `numpy.random.seed()`.\n",
        "\n",
        "1. Construct a random $5 \\times 5$ matrix $P$, and normalize each row so that\n",
        "$$\n",
        "\\sum_{j=1}^5 P_{i j}=1 .\n",
        "$$\n",
        "\n",
        "2. Construct a random size-5 vector $p$ and normalize it so that\n",
        "$$\n",
        "\\sum_{j=1}^5 p_j=1 .\n",
        "$$\n",
        "Apply the transition rule 50 times to obtain $p_{50}$.\n",
        "3. Compute the eigenvector $v$ of $P^T$ corresponding to the eigenvalue 1 (and numerically, the eigenvalue closest to $1)$, and then scale the eigenvector so that\n",
        "$$\n",
        "\\sum_{j=1}^5 v_j=1 .\n",
        "$$\n",
        "This scaled eigenvector is known as the stationary distribution.\n",
        "\n",
        "4. Compute the component wise difference between $p_{50}$ and the stationary distribution. Do they match with each other within $1 \\mathrm{e}-5$ ?\n",
        "\n",
        "HINTS: You may find the following functions useful in your implementation:\n",
        "- np.random.rand\n",
        "- np.dot\n",
        "- np.linalg.eig"
      ],
      "metadata": {
        "id": "X2-wBoxIWLQs"
      }
    },
    {
      "cell_type": "code",
      "source": [
        "# import the library\n",
        "import numpy as np"
      ],
      "metadata": {
        "id": "JELl6CTcd_fB"
      },
      "execution_count": 23,
      "outputs": []
    },
    {
      "cell_type": "code",
      "source": [
        "# random seed the last digit id\n",
        "np.random.seed(8)\n",
        "\n",
        "# generate a 5x5 random matrix P and normalize each row\n",
        "P = np.random.rand(5,5)\n",
        "P /= P.sum(axis=1, keepdims=True)\n",
        "\n",
        "# random matrix p\n",
        "p = np.random.rand(5)\n",
        "p /= p.sum()\n",
        "\n",
        "# iterate 50 times\n",
        "for iteration in range(50):\n",
        "    p = np.dot(P.T,p)\n",
        "\n",
        "print(\"after 50 iterations:\",(p))\n"
      ],
      "metadata": {
        "colab": {
          "base_uri": "https://localhost:8080/"
        },
        "id": "IM5ziBBbAFEx",
        "outputId": "4c19e666-5a1d-4d93-92bf-eea59d4b44c2"
      },
      "execution_count": 24,
      "outputs": [
        {
          "output_type": "stream",
          "name": "stdout",
          "text": [
            "after 50 iterations: [0.12304366 0.26075232 0.25213473 0.21172295 0.15234634]\n"
          ]
        }
      ]
    },
    {
      "cell_type": "code",
      "source": [
        "# compute the transpose of matrix P\n",
        "PT = P.T\n",
        "\n",
        "# eigenvalues and eigenvectors of the transpose of matrix P\n",
        "eigenvalues, eigenvectors = np.linalg.eig(PT)\n",
        "index = np.argmin(np.abs(eigenvalues-1))\n",
        "\n",
        "# corresponding eigenvector\n",
        "v = np.real(eigenvectors[:, index])\n",
        "# obtain the stationary distribution\n",
        "v = v/np.sum(v)\n",
        "\n",
        "print(\"stationary distribution\",(v))"
      ],
      "metadata": {
        "colab": {
          "base_uri": "https://localhost:8080/"
        },
        "id": "VDF1h_59AFH1",
        "outputId": "e31e912d-45f6-4f28-d20a-e8ba22c0f9e6"
      },
      "execution_count": 25,
      "outputs": [
        {
          "output_type": "stream",
          "name": "stdout",
          "text": [
            "stationary distribution [0.12304366 0.26075232 0.25213473 0.21172295 0.15234634]\n"
          ]
        }
      ]
    },
    {
      "cell_type": "code",
      "source": [
        "# calculate the difference between p and v\n",
        "difference = np.abs(p-v)\n",
        "# maximum difference\n",
        "max_difference = np.max(difference)\n",
        "\n",
        "# check if the difference is less than 1e-5\n",
        "if max_difference < 1e-5:\n",
        "    print(\"component wise difference is within 1e-5 tolerance\")\n",
        "else:\n",
        "    print(\"component wise difference is not within 1e-5 tolerance\")\n",
        "\n",
        "print(\"maximum difference\", max_difference)\n",
        "\n"
      ],
      "metadata": {
        "colab": {
          "base_uri": "https://localhost:8080/"
        },
        "id": "Hux2MdwnAFKn",
        "outputId": "b8e593cd-b8ba-45f4-ab81-cf2da27be113"
      },
      "execution_count": 44,
      "outputs": [
        {
          "output_type": "stream",
          "name": "stdout",
          "text": [
            "component wise difference is within 1e-5 tolerance\n",
            "maximum difference 3.0531133177191805e-16\n"
          ]
        }
      ]
    },
    {
      "cell_type": "code",
      "source": [],
      "metadata": {
        "id": "1ex8tjgLd_kV"
      },
      "execution_count": null,
      "outputs": []
    }
  ],
  "metadata": {
    "anaconda-cloud": {},
    "kernelspec": {
      "display_name": "Python 3",
      "name": "python3"
    },
    "language_info": {
      "codemirror_mode": {
        "name": "ipython",
        "version": 3
      },
      "file_extension": ".py",
      "mimetype": "text/x-python",
      "name": "python",
      "nbconvert_exporter": "python",
      "pygments_lexer": "ipython3",
      "version": "3.7.4"
    },
    "colab": {
      "provenance": [],
      "collapsed_sections": [
        "KR0Fl4yAQYad",
        "U5SL2j0sqnAJ",
        "29VDnBBE5pUV",
        "uzMa1xSEwhe3",
        "YCD9beX75Yp7",
        "aCgIDqeLBPjj",
        "WqHDjQC-KLjo",
        "wzeYQOW0OCH3",
        "X_4ITuoU53KF",
        "yoMb8G9jXWcu"
      ],
      "gpuType": "T4"
    }
  },
  "nbformat": 4,
  "nbformat_minor": 0
}